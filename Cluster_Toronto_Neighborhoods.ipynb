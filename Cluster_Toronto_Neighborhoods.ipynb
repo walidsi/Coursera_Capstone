{
  "nbformat": 4,
  "nbformat_minor": 0,
  "metadata": {
    "colab": {
      "name": "Untitled0.ipynb",
      "provenance": []
    },
    "kernelspec": {
      "name": "python3",
      "display_name": "Python 3",
      "language": "python"
    }
  },
  "cells": [
    {
      "cell_type": "code",
      "metadata": {
        "id": "iaYMvip7w3Af"
      },
      "source": [
        "import requests\n",
        "import urllib.request\n",
        "import time\n",
        "from bs4 import BeautifulSoup\n",
        "import numpy as np\n",
        "import pandas as pd\n",
        "from urllib.request import urlopen\n",
        "import geocoder\n",
        "\n",
        "\n",
        "pd.set_option('display.max_columns', 500)\n",
        "pd.set_option('display.max_rows', 50)\n",
        "\n",
        "print(\"Libraries imported\")"
      ],
      "execution_count": 88,
      "outputs": [
        {
          "output_type": "stream",
          "name": "stdout",
          "text": [
            "Libraries imported\n"
          ]
        }
      ]
    },
    {
      "source": [
        "## Part 1: Fetch the Postal Codes, Boroughs and Neighborhoods of Toronto"
      ],
      "cell_type": "markdown",
      "metadata": {}
    },
    {
      "source": [
        "#### Read the HTML page and initialize a BeautifulSoup object with its contents"
      ],
      "cell_type": "markdown",
      "metadata": {}
    },
    {
      "cell_type": "code",
      "metadata": {
        "id": "3UtlxTwlxAut"
      },
      "source": [
        "url = 'https://en.wikipedia.org/wiki/List_of_postal_codes_of_Canada:_M'\r\n",
        "html = urlopen(url) \r\n",
        "soup = BeautifulSoup(html, 'html.parser')"
      ],
      "execution_count": 89,
      "outputs": []
    },
    {
      "source": [
        "#### Find all tables in the page"
      ],
      "cell_type": "markdown",
      "metadata": {}
    },
    {
      "cell_type": "code",
      "metadata": {
        "id": "tIpLc3ATxNoy"
      },
      "source": [
        "tables = soup.find_all('table')"
      ],
      "execution_count": 90,
      "outputs": []
    },
    {
      "source": [
        "#### Iterate through the cells of the first table and retrieve the postal codes, boroughs and neighborhoods"
      ],
      "cell_type": "markdown",
      "metadata": {}
    },
    {
      "cell_type": "code",
      "metadata": {
        "id": "bkMyJraCxjCl"
      },
      "source": [
        "#Create array to hold the data we extract\n",
        "postal_codes = []\n",
        "boroughs = []\n",
        "neighborhoods = []\n",
        "\n",
        "for table in tables:\n",
        "    rows = table.find_all('tr')\n",
        "    \n",
        "    for row in rows:\n",
        "        cells = row.find_all('td')\n",
        "        \n",
        "        if len(cells) > 1:\n",
        "            postal_code = cells[0]\n",
        "            postal_codes.append(postal_code.text.replace('\\n', '')) # remove any trailing new line character\n",
        "            \n",
        "            borough = cells[1]\n",
        "            boroughs.append(borough.text.replace('\\n', ''))\n",
        "            \n",
        "            neighborhood = cells[2]\n",
        "            neighborhoods.append(neighborhood.text.replace('\\n', ''))\n",
        "    \n",
        "    break # we only need to parse the first table         "
      ],
      "execution_count": 91,
      "outputs": []
    },
    {
      "source": [
        "#### Transform the data to a dataframe"
      ],
      "cell_type": "markdown",
      "metadata": {
        "id": "_hmARZqF3Z0M"
      }
    },
    {
      "cell_type": "code",
      "metadata": {
        "colab": {
          "base_uri": "https://localhost:8080/",
          "height": 1000
        },
        "id": "AXDqFmeczZu8",
        "outputId": "24810f71-c01d-4425-ab45-3e753590ef83"
      },
      "source": [
        "df = pd.DataFrame({'PostalCode': postal_codes,\n",
        "                   'Borough': boroughs,\n",
        "                   'Neighborhood': neighborhoods})\n",
        "\n",
        "df = df[df['Borough'] != \"Not assigned\"] #remove any rows without Borough"
      ],
      "execution_count": 92,
      "outputs": []
    },
    {
      "source": [
        "#### Finally keep the postal codes we need and drop the rest"
      ],
      "cell_type": "markdown",
      "metadata": {}
    },
    {
      "cell_type": "code",
      "metadata": {
        "colab": {
          "base_uri": "https://localhost:8080/",
          "height": 314
        },
        "id": "TwVwhzIN56Pk",
        "outputId": "9b75e37e-a233-4ce1-d96d-9babfbb3709b"
      },
      "source": [
        "selected_postal_codes = ['M5G', 'M2H', 'M4B', 'M1J', 'M4G', 'M4M', 'M1R', 'M9V', 'M9L', 'M5V', 'M1B', 'M5A']\n",
        "\n",
        "df = df[df['PostalCode'].isin(selected_postal_codes)]\n",
        "\n",
        "df_toronto = df.reset_index(drop=True)\n",
        "\n",
        "df_toronto"
      ],
      "execution_count": 93,
      "outputs": [
        {
          "output_type": "execute_result",
          "data": {
            "text/plain": [
              "   PostalCode           Borough  \\\n",
              "0         M5A  Downtown Toronto   \n",
              "1         M1B       Scarborough   \n",
              "2         M4B         East York   \n",
              "3         M4G         East York   \n",
              "4         M5G  Downtown Toronto   \n",
              "5         M2H        North York   \n",
              "6         M1J       Scarborough   \n",
              "7         M9L        North York   \n",
              "8         M4M      East Toronto   \n",
              "9         M1R       Scarborough   \n",
              "10        M5V  Downtown Toronto   \n",
              "11        M9V         Etobicoke   \n",
              "\n",
              "                                         Neighborhood  \n",
              "0                           Regent Park, Harbourfront  \n",
              "1                                      Malvern, Rouge  \n",
              "2                     Parkview Hill, Woodbine Gardens  \n",
              "3                                             Leaside  \n",
              "4                                  Central Bay Street  \n",
              "5                                   Hillcrest Village  \n",
              "6                                 Scarborough Village  \n",
              "7                                       Humber Summit  \n",
              "8                                     Studio District  \n",
              "9                                   Wexford, Maryvale  \n",
              "10  CN Tower, King and Spadina, Railway Lands, Har...  \n",
              "11  South Steeles, Silverstone, Humbergate, Jamest...  "
            ],
            "text/html": "<div>\n<style scoped>\n    .dataframe tbody tr th:only-of-type {\n        vertical-align: middle;\n    }\n\n    .dataframe tbody tr th {\n        vertical-align: top;\n    }\n\n    .dataframe thead th {\n        text-align: right;\n    }\n</style>\n<table border=\"1\" class=\"dataframe\">\n  <thead>\n    <tr style=\"text-align: right;\">\n      <th></th>\n      <th>PostalCode</th>\n      <th>Borough</th>\n      <th>Neighborhood</th>\n    </tr>\n  </thead>\n  <tbody>\n    <tr>\n      <th>0</th>\n      <td>M5A</td>\n      <td>Downtown Toronto</td>\n      <td>Regent Park, Harbourfront</td>\n    </tr>\n    <tr>\n      <th>1</th>\n      <td>M1B</td>\n      <td>Scarborough</td>\n      <td>Malvern, Rouge</td>\n    </tr>\n    <tr>\n      <th>2</th>\n      <td>M4B</td>\n      <td>East York</td>\n      <td>Parkview Hill, Woodbine Gardens</td>\n    </tr>\n    <tr>\n      <th>3</th>\n      <td>M4G</td>\n      <td>East York</td>\n      <td>Leaside</td>\n    </tr>\n    <tr>\n      <th>4</th>\n      <td>M5G</td>\n      <td>Downtown Toronto</td>\n      <td>Central Bay Street</td>\n    </tr>\n    <tr>\n      <th>5</th>\n      <td>M2H</td>\n      <td>North York</td>\n      <td>Hillcrest Village</td>\n    </tr>\n    <tr>\n      <th>6</th>\n      <td>M1J</td>\n      <td>Scarborough</td>\n      <td>Scarborough Village</td>\n    </tr>\n    <tr>\n      <th>7</th>\n      <td>M9L</td>\n      <td>North York</td>\n      <td>Humber Summit</td>\n    </tr>\n    <tr>\n      <th>8</th>\n      <td>M4M</td>\n      <td>East Toronto</td>\n      <td>Studio District</td>\n    </tr>\n    <tr>\n      <th>9</th>\n      <td>M1R</td>\n      <td>Scarborough</td>\n      <td>Wexford, Maryvale</td>\n    </tr>\n    <tr>\n      <th>10</th>\n      <td>M5V</td>\n      <td>Downtown Toronto</td>\n      <td>CN Tower, King and Spadina, Railway Lands, Har...</td>\n    </tr>\n    <tr>\n      <th>11</th>\n      <td>M9V</td>\n      <td>Etobicoke</td>\n      <td>South Steeles, Silverstone, Humbergate, Jamest...</td>\n    </tr>\n  </tbody>\n</table>\n</div>"
          },
          "metadata": {},
          "execution_count": 93
        }
      ]
    },
    {
      "source": [
        "## Part 2: Fetch the latitude and longitude of the neighborhoods\n"
      ],
      "cell_type": "markdown",
      "metadata": {}
    },
    {
      "cell_type": "code",
      "execution_count": 94,
      "metadata": {},
      "outputs": [],
      "source": [
        "# Code to split each row that has more than one neighborhood for a postal code into separate rows, not needed anymore\n",
        "\n",
        "# df_toronto = pd.DataFrame(columns = ['PostalCode', 'Borough', 'Neighborhood']) \n",
        "# df_toronto.dtypes\n",
        "\n",
        "# for index, row in df.iterrows():\n",
        "#     neighborhoods = row['Neighborhood'].split(',')\n",
        "#     if len(neighborhoods) > 1 :\n",
        "#         for neighborhood in neighborhoods:\n",
        "#             new_row = {'PostalCode': row['PostalCode'], 'Borough': row['Borough'], 'Neighborhood': neighborhood}\n",
        "#             df_toronto = df_toronto.append(new_row, ignore_index=True)\n",
        "#     else:\n",
        "#         new_row = {'PostalCode': row['PostalCode'], 'Borough': row['Borough'], 'Neighborhood': row['Neighborhood']}\n",
        "#         df_toronto = df_toronto.append(new_row, ignore_index=True)\n",
        "\n",
        "# df_toronto"
      ]
    },
    {
      "source": [
        "#### Load geospatial coordinates for Toronto from CSV file"
      ],
      "cell_type": "markdown",
      "metadata": {}
    },
    {
      "cell_type": "code",
      "execution_count": 95,
      "metadata": {},
      "outputs": [
        {
          "output_type": "execute_result",
          "data": {
            "text/plain": [
              "  Postal Code   Latitude  Longitude\n",
              "0         M1B  43.806686 -79.194353\n",
              "1         M1C  43.784535 -79.160497\n",
              "2         M1E  43.763573 -79.188711\n",
              "3         M1G  43.770992 -79.216917\n",
              "4         M1H  43.773136 -79.239476"
            ],
            "text/html": "<div>\n<style scoped>\n    .dataframe tbody tr th:only-of-type {\n        vertical-align: middle;\n    }\n\n    .dataframe tbody tr th {\n        vertical-align: top;\n    }\n\n    .dataframe thead th {\n        text-align: right;\n    }\n</style>\n<table border=\"1\" class=\"dataframe\">\n  <thead>\n    <tr style=\"text-align: right;\">\n      <th></th>\n      <th>Postal Code</th>\n      <th>Latitude</th>\n      <th>Longitude</th>\n    </tr>\n  </thead>\n  <tbody>\n    <tr>\n      <th>0</th>\n      <td>M1B</td>\n      <td>43.806686</td>\n      <td>-79.194353</td>\n    </tr>\n    <tr>\n      <th>1</th>\n      <td>M1C</td>\n      <td>43.784535</td>\n      <td>-79.160497</td>\n    </tr>\n    <tr>\n      <th>2</th>\n      <td>M1E</td>\n      <td>43.763573</td>\n      <td>-79.188711</td>\n    </tr>\n    <tr>\n      <th>3</th>\n      <td>M1G</td>\n      <td>43.770992</td>\n      <td>-79.216917</td>\n    </tr>\n    <tr>\n      <th>4</th>\n      <td>M1H</td>\n      <td>43.773136</td>\n      <td>-79.239476</td>\n    </tr>\n  </tbody>\n</table>\n</div>"
          },
          "metadata": {},
          "execution_count": 95
        }
      ],
      "source": [
        "df_location = pd.read_csv(\"Geospatial_Coordinates.csv\")\n",
        "df_location.head()"
      ]
    },
    {
      "source": [
        "#### loop on each postal code to get its latitude and longitude"
      ],
      "cell_type": "markdown",
      "metadata": {}
    },
    {
      "cell_type": "code",
      "execution_count": 96,
      "metadata": {},
      "outputs": [
        {
          "output_type": "execute_result",
          "data": {
            "text/plain": [
              "  Postal Code   Latitude  Longitude\n",
              "0         M1B  43.806686 -79.194353"
            ],
            "text/html": "<div>\n<style scoped>\n    .dataframe tbody tr th:only-of-type {\n        vertical-align: middle;\n    }\n\n    .dataframe tbody tr th {\n        vertical-align: top;\n    }\n\n    .dataframe thead th {\n        text-align: right;\n    }\n</style>\n<table border=\"1\" class=\"dataframe\">\n  <thead>\n    <tr style=\"text-align: right;\">\n      <th></th>\n      <th>Postal Code</th>\n      <th>Latitude</th>\n      <th>Longitude</th>\n    </tr>\n  </thead>\n  <tbody>\n    <tr>\n      <th>0</th>\n      <td>M1B</td>\n      <td>43.806686</td>\n      <td>-79.194353</td>\n    </tr>\n  </tbody>\n</table>\n</div>"
          },
          "metadata": {},
          "execution_count": 96
        }
      ],
      "source": [
        "location = df_location.loc[df_location['Postal Code'] == 'M1B']\n",
        "location"
      ]
    },
    {
      "cell_type": "code",
      "execution_count": 97,
      "metadata": {},
      "outputs": [
        {
          "output_type": "execute_result",
          "data": {
            "text/plain": [
              "   PostalCode           Borough  \\\n",
              "0         M5A  Downtown Toronto   \n",
              "1         M1B       Scarborough   \n",
              "2         M4B         East York   \n",
              "3         M4G         East York   \n",
              "4         M5G  Downtown Toronto   \n",
              "5         M2H        North York   \n",
              "6         M1J       Scarborough   \n",
              "7         M9L        North York   \n",
              "8         M4M      East Toronto   \n",
              "9         M1R       Scarborough   \n",
              "10        M5V  Downtown Toronto   \n",
              "11        M9V         Etobicoke   \n",
              "\n",
              "                                         Neighborhood   Latitude  Longitudes  \n",
              "0                           Regent Park, Harbourfront  43.654260  -79.360636  \n",
              "1                                      Malvern, Rouge  43.806686  -79.194353  \n",
              "2                     Parkview Hill, Woodbine Gardens  43.706397  -79.309937  \n",
              "3                                             Leaside  43.709060  -79.363452  \n",
              "4                                  Central Bay Street  43.657952  -79.387383  \n",
              "5                                   Hillcrest Village  43.803762  -79.363452  \n",
              "6                                 Scarborough Village  43.744734  -79.239476  \n",
              "7                                       Humber Summit  43.756303  -79.565963  \n",
              "8                                     Studio District  43.659526  -79.340923  \n",
              "9                                   Wexford, Maryvale  43.750072  -79.295849  \n",
              "10  CN Tower, King and Spadina, Railway Lands, Har...  43.628947  -79.394420  \n",
              "11  South Steeles, Silverstone, Humbergate, Jamest...  43.739416  -79.588437  "
            ],
            "text/html": "<div>\n<style scoped>\n    .dataframe tbody tr th:only-of-type {\n        vertical-align: middle;\n    }\n\n    .dataframe tbody tr th {\n        vertical-align: top;\n    }\n\n    .dataframe thead th {\n        text-align: right;\n    }\n</style>\n<table border=\"1\" class=\"dataframe\">\n  <thead>\n    <tr style=\"text-align: right;\">\n      <th></th>\n      <th>PostalCode</th>\n      <th>Borough</th>\n      <th>Neighborhood</th>\n      <th>Latitude</th>\n      <th>Longitudes</th>\n    </tr>\n  </thead>\n  <tbody>\n    <tr>\n      <th>0</th>\n      <td>M5A</td>\n      <td>Downtown Toronto</td>\n      <td>Regent Park, Harbourfront</td>\n      <td>43.654260</td>\n      <td>-79.360636</td>\n    </tr>\n    <tr>\n      <th>1</th>\n      <td>M1B</td>\n      <td>Scarborough</td>\n      <td>Malvern, Rouge</td>\n      <td>43.806686</td>\n      <td>-79.194353</td>\n    </tr>\n    <tr>\n      <th>2</th>\n      <td>M4B</td>\n      <td>East York</td>\n      <td>Parkview Hill, Woodbine Gardens</td>\n      <td>43.706397</td>\n      <td>-79.309937</td>\n    </tr>\n    <tr>\n      <th>3</th>\n      <td>M4G</td>\n      <td>East York</td>\n      <td>Leaside</td>\n      <td>43.709060</td>\n      <td>-79.363452</td>\n    </tr>\n    <tr>\n      <th>4</th>\n      <td>M5G</td>\n      <td>Downtown Toronto</td>\n      <td>Central Bay Street</td>\n      <td>43.657952</td>\n      <td>-79.387383</td>\n    </tr>\n    <tr>\n      <th>5</th>\n      <td>M2H</td>\n      <td>North York</td>\n      <td>Hillcrest Village</td>\n      <td>43.803762</td>\n      <td>-79.363452</td>\n    </tr>\n    <tr>\n      <th>6</th>\n      <td>M1J</td>\n      <td>Scarborough</td>\n      <td>Scarborough Village</td>\n      <td>43.744734</td>\n      <td>-79.239476</td>\n    </tr>\n    <tr>\n      <th>7</th>\n      <td>M9L</td>\n      <td>North York</td>\n      <td>Humber Summit</td>\n      <td>43.756303</td>\n      <td>-79.565963</td>\n    </tr>\n    <tr>\n      <th>8</th>\n      <td>M4M</td>\n      <td>East Toronto</td>\n      <td>Studio District</td>\n      <td>43.659526</td>\n      <td>-79.340923</td>\n    </tr>\n    <tr>\n      <th>9</th>\n      <td>M1R</td>\n      <td>Scarborough</td>\n      <td>Wexford, Maryvale</td>\n      <td>43.750072</td>\n      <td>-79.295849</td>\n    </tr>\n    <tr>\n      <th>10</th>\n      <td>M5V</td>\n      <td>Downtown Toronto</td>\n      <td>CN Tower, King and Spadina, Railway Lands, Har...</td>\n      <td>43.628947</td>\n      <td>-79.394420</td>\n    </tr>\n    <tr>\n      <th>11</th>\n      <td>M9V</td>\n      <td>Etobicoke</td>\n      <td>South Steeles, Silverstone, Humbergate, Jamest...</td>\n      <td>43.739416</td>\n      <td>-79.588437</td>\n    </tr>\n  </tbody>\n</table>\n</div>"
          },
          "metadata": {},
          "execution_count": 97
        }
      ],
      "source": [
        "latitudes = []\n",
        "longitudes = []\n",
        "\n",
        "for index, row in df.iterrows():\n",
        "    postal_code = row['PostalCode']\n",
        "\n",
        "    location = df_location.loc[df_location['Postal Code'] == postal_code]\n",
        "\n",
        "    latitude = location.iloc[0]['Latitude']\n",
        "    longitude = location.iloc[0]['Longitude']\n",
        "\n",
        "    latitudes.append(latitude)\n",
        "    longitudes.append(longitude)\n",
        "\n",
        "df_toronto['Latitude'] = latitudes\n",
        "df_toronto['Longitudes'] = longitudes\n",
        "\n",
        "df_toronto"
      ]
    },
    {
      "source": [
        "## Part 3: Cluster Toronto neighborhoods"
      ],
      "cell_type": "markdown",
      "metadata": {}
    },
    {
      "cell_type": "code",
      "execution_count": null,
      "metadata": {},
      "outputs": [],
      "source": []
    }
  ]
}